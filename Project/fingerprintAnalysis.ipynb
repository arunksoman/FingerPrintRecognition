{
 "cells": [
  {
   "cell_type": "code",
   "execution_count": 1,
   "metadata": {},
   "outputs": [],
   "source": [
    "# Importing necessary libraries\n",
    "import os\n",
    "import operator\n",
    "import glob\n",
    "import numpy as np\n",
    "import cv2\n",
    "import sys\n",
    "from imutils import paths\n",
    "from image_enhance import image_enhance\n",
    "from sklearn.metrics import accuracy_score, precision_score, f1_score\n",
    "from finger_utils import *\n",
    "from finger_preprocessing import *\n",
    "from plots import *\n",
    "# pyeer library: pip install pyeer\n",
    "from pyeer.eer_info import get_eer_stats\n",
    "from pyeer.report import generate_eer_report, export_error_rates\n",
    "from pyeer.plot import plot_eer_stats"
   ]
  },
  {
   "cell_type": "code",
   "execution_count": 2,
   "metadata": {},
   "outputs": [],
   "source": [
    "# Initiate ORB detector for matching keypoints\n",
    "MAX_FEATURES = 500\n",
    "TRAIN_PER_CLASS = 6\n",
    "MAX_FEATURES = 500\n",
    "GOOD_MATCH_PERCENT = 0.25\n",
    "DIST_THRESHOLD = 30"
   ]
  },
  {
   "cell_type": "code",
   "execution_count": 3,
   "metadata": {},
   "outputs": [
    {
     "name": "stdout",
     "output_type": "stream",
     "text": [
      "D:\\Projects\\FingerPrintAnalysis\\Project\n",
      "['D:\\\\Projects\\\\FingerPrintAnalysis\\\\Project\\\\RawDataset\\\\anu_1.bmp', 'D:\\\\Projects\\\\FingerPrintAnalysis\\\\Project\\\\RawDataset\\\\anu_2.bmp', 'D:\\\\Projects\\\\FingerPrintAnalysis\\\\Project\\\\RawDataset\\\\anu_3.bmp', 'D:\\\\Projects\\\\FingerPrintAnalysis\\\\Project\\\\RawDataset\\\\anu_4.bmp', 'D:\\\\Projects\\\\FingerPrintAnalysis\\\\Project\\\\RawDataset\\\\anu_5.bmp', 'D:\\\\Projects\\\\FingerPrintAnalysis\\\\Project\\\\RawDataset\\\\anu_6.bmp', 'D:\\\\Projects\\\\FingerPrintAnalysis\\\\Project\\\\RawDataset\\\\anu_7.bmp', 'D:\\\\Projects\\\\FingerPrintAnalysis\\\\Project\\\\RawDataset\\\\anu_8.bmp', 'D:\\\\Projects\\\\FingerPrintAnalysis\\\\Project\\\\RawDataset\\\\arun_1.bmp', 'D:\\\\Projects\\\\FingerPrintAnalysis\\\\Project\\\\RawDataset\\\\arun_2.bmp', 'D:\\\\Projects\\\\FingerPrintAnalysis\\\\Project\\\\RawDataset\\\\arun_3.bmp', 'D:\\\\Projects\\\\FingerPrintAnalysis\\\\Project\\\\RawDataset\\\\arun_4.bmp', 'D:\\\\Projects\\\\FingerPrintAnalysis\\\\Project\\\\RawDataset\\\\arun_5.bmp', 'D:\\\\Projects\\\\FingerPrintAnalysis\\\\Project\\\\RawDataset\\\\arun_6.bmp', 'D:\\\\Projects\\\\FingerPrintAnalysis\\\\Project\\\\RawDataset\\\\arun_7.bmp', 'D:\\\\Projects\\\\FingerPrintAnalysis\\\\Project\\\\RawDataset\\\\arun_8.bmp']\n"
     ]
    }
   ],
   "source": [
    "# reading files\n",
    "base_dir = os.getcwd()\n",
    "print(base_dir)\n",
    "dataset_dir = os.path.join(base_dir, 'RawDataset')\n",
    "img_files = glob.glob(dataset_dir + '\\*.bmp')\n",
    "print(img_files)\n",
    "enhanced_dir = os.path.join(base_dir, 'enhanced')\n",
    "if not os.path.exists(enhanced_dir):\n",
    "    os.mkdir(enhanced_dir)\n",
    "trainingPath = os.path.sep.join([enhanced_dir, \"training\"])\n",
    "testingPath = os.path.sep.join([enhanced_dir, \"testing\"])\n",
    "if not os.path.exists(trainingPath):\n",
    "    os.mkdir(trainingPath)\n",
    "if not os.path.exists(testingPath):\n",
    "    os.mkdir(testingPath)"
   ]
  },
  {
   "cell_type": "code",
   "execution_count": 4,
   "metadata": {},
   "outputs": [
    {
     "name": "stdout",
     "output_type": "stream",
     "text": [
      "saving the image anu_1.bmp\n",
      "saving the image anu_2.bmp\n",
      "saving the image anu_3.bmp\n",
      "saving the image anu_4.bmp\n",
      "saving the image anu_5.bmp\n",
      "saving the image anu_6.bmp\n",
      "saving the image anu_7.bmp\n",
      "saving the image anu_8.bmp\n",
      "saving the image arun_1.bmp\n",
      "saving the image arun_2.bmp\n",
      "saving the image arun_3.bmp\n",
      "saving the image arun_4.bmp\n",
      "saving the image arun_5.bmp\n",
      "saving the image arun_6.bmp\n",
      "saving the image arun_7.bmp\n",
      "saving the image arun_8.bmp\n"
     ]
    }
   ],
   "source": [
    "for image in img_files:\n",
    "        img_name = image.split(os.path.sep)[-1]\n",
    "        img = cv2.imread(image)\n",
    "        img = cv2.cvtColor(img,cv2.COLOR_BGR2GRAY)\n",
    "        rows,cols = img.shape\n",
    "        aspect_ratio = np.double(rows)/np.double(cols)\n",
    "        new_rows = 350; # randomly selected number\n",
    "        new_cols = new_rows/aspect_ratio\n",
    "        img = cv2.resize(img,(np.int(new_cols),np.int(new_rows)))\n",
    "        enhanced_img = image_enhance(img)\n",
    "        # cv2.normalize(enhanced_img, None, alpha=0, beta=255, norm_type=cv2.NORM_MINMAX, dtype=int)\n",
    "        print('saving the image {}'.format(img_name))\n",
    "        cv2.imwrite(os.path.join(enhanced_dir, img_name), (255*enhanced_img))"
   ]
  },
  {
   "cell_type": "code",
   "execution_count": 5,
   "metadata": {},
   "outputs": [],
   "source": [
    "def get_image_label(filename):\n",
    "    image = filename.split(os.path.sep)\n",
    "    return image[len(image)-1]\n",
    "\n",
    "\n",
    "def get_image_class(filename):\n",
    "    return get_image_label(filename).split('_')[0]\n",
    "\n",
    "# Splits the dataset on training and testing set\n",
    "def split_dataset(data, test_size):\n",
    "    train, test = train_test_split(data, test_size=test_size, random_state=42)\n",
    "    return train, test"
   ]
  },
  {
   "cell_type": "code",
   "execution_count": 6,
   "metadata": {},
   "outputs": [],
   "source": [
    "def prepare_dataset(file_names):\n",
    "    '''\n",
    "    Coversion to grayscale and enhancement. Split into training and test set.\n",
    "    :param file_names: All fingerprint images as file names\n",
    "    :return: train_set, test_set: 2 dictionaries for training and test,\n",
    "             where the key is the name of the image and the value is the image itself\n",
    "    '''\n",
    "    train_set = {}\n",
    "    test_set = {}\n",
    "    data = []  # list of tuples\n",
    "    temp_label = get_image_class(file_names[0])  # sets the image class (101)\n",
    "    for filename in file_names:\n",
    "        img = cv2.imread(filename)\n",
    "        label = get_image_label(filename)\n",
    "        print('Processing image {} ...  '.format(label))\n",
    "        if temp_label != get_image_class(filename):\n",
    "            train, test = split_dataset(data, 0.2)\n",
    "            train_set.update(train)\n",
    "            test_set.update(test)\n",
    "            temp_label = get_image_class(filename)\n",
    "            data = []\n",
    "        data.append((label, img))\n",
    "\n",
    "        if filename == file_names[len(file_names) - 1]:\n",
    "            train, test = split_dataset(data, 0.2)\n",
    "            train_set.update(train)\n",
    "            test_set.update(test)\n",
    "\n",
    "    print('DONE')\n",
    "    return train_set, test_set"
   ]
  },
  {
   "cell_type": "code",
   "execution_count": 7,
   "metadata": {},
   "outputs": [
    {
     "name": "stdout",
     "output_type": "stream",
     "text": [
      "Processing image anu_1.bmp ...  \n",
      "Processing image anu_2.bmp ...  \n",
      "Processing image anu_3.bmp ...  \n",
      "Processing image anu_4.bmp ...  \n",
      "Processing image anu_5.bmp ...  \n",
      "Processing image anu_6.bmp ...  \n",
      "Processing image anu_7.bmp ...  \n",
      "Processing image anu_8.bmp ...  \n",
      "Processing image arun_1.bmp ...  \n",
      "Processing image arun_2.bmp ...  \n",
      "Processing image arun_3.bmp ...  \n",
      "Processing image arun_4.bmp ...  \n",
      "Processing image arun_5.bmp ...  \n",
      "Processing image arun_6.bmp ...  \n",
      "Processing image arun_7.bmp ...  \n",
      "Processing image arun_8.bmp ...  \n",
      "DONE\n"
     ]
    }
   ],
   "source": [
    "enhanced_img_list = glob.glob(enhanced_dir+\"\\*.bmp\")\n",
    "enhanced_img_list\n",
    "train_set, test_set = prepare_dataset(enhanced_img_list)"
   ]
  },
  {
   "cell_type": "code",
   "execution_count": 8,
   "metadata": {},
   "outputs": [
    {
     "name": "stdout",
     "output_type": "stream",
     "text": [
      "dict_keys(['anu_1.bmp', 'anu_8.bmp', 'anu_3.bmp', 'anu_5.bmp', 'anu_4.bmp', 'anu_7.bmp', 'arun_1.bmp', 'arun_8.bmp', 'arun_3.bmp', 'arun_5.bmp', 'arun_4.bmp', 'arun_7.bmp'])\n",
      "dict_keys(['anu_2.bmp', 'anu_6.bmp', 'arun_2.bmp', 'arun_6.bmp'])\n",
      "Size of the training set: 12\n",
      "Size of the test set: 4\n"
     ]
    }
   ],
   "source": [
    "print(train_set.keys())\n",
    "print(test_set.keys())\n",
    "print('Size of the training set:', len(train_set))\n",
    "print('Size of the test set:', len(test_set))"
   ]
  },
  {
   "cell_type": "code",
   "execution_count": 9,
   "metadata": {},
   "outputs": [
    {
     "data": {
      "image/png": "[encoded data removed]",
      "text/plain": [
       "<Figure size 432x288 with 2 Axes>"
      ]
     },
     "metadata": {
      "needs_background": "light"
     },
     "output_type": "display_data"
    }
   ],
   "source": [
    "plt.subplot(1, 2, 1)\n",
    "plt.title('Before enhancement')\n",
    "img_fpr = cv2.imread(img_files[0])\n",
    "plt.imshow(img_fpr, cmap='gray')\n",
    "plt.subplot(1, 2, 2)\n",
    "plt.title('After enhancement')\n",
    "img_fer = cv2.imread(enhanced_img_list[0])\n",
    "plt.imshow(img_fer, cmap='gray')\n",
    "plt.show()"
   ]
  },
  {
   "cell_type": "code",
   "execution_count": 10,
   "metadata": {},
   "outputs": [],
   "source": [
    "# Initiate ORB detector for matching keypoints\n",
    "orb = cv2.ORB_create()\n",
    "bf = cv2.BFMatcher(cv2.NORM_HAMMING, crossCheck=True)"
   ]
  },
  {
   "cell_type": "code",
   "execution_count": 11,
   "metadata": {},
   "outputs": [],
   "source": [
    "# Returns feature descripors for all images from the dataset\n",
    "def get_feature_descriptors(dataset):\n",
    "    feature_descriptors = {}\n",
    "    for image_id, image in dataset.items():\n",
    "        kp, des = orb.detectAndCompute(image, None)\n",
    "        feature_descriptors[image_id] = des\n",
    "    return feature_descriptors"
   ]
  },
  {
   "cell_type": "code",
   "execution_count": 12,
   "metadata": {},
   "outputs": [],
   "source": [
    "# Returns best_matches between training features descriptors and query image\n",
    "def get_best_matches(query_image, trained_features, distance_threshold):\n",
    "    best_matches_dict = {}\n",
    "    kp1, query_des = orb.detectAndCompute(query_image, None) # features of the query image\n",
    "    for train_image_id, trained_feature_des in trained_features.items():\n",
    "        if query_des is not None and trained_feature_des is not None:\n",
    "            matches = bf.match(query_des, trained_feature_des)\n",
    "            matches.sort(key=lambda x: x.distance, reverse=False) # sort matches based on feature distance\n",
    "            best_matches = [m.distance for m in matches if m.distance < distance_threshold]\n",
    "            best_matches_dict[train_image_id] = len(best_matches) # matching function = length of best mat ches to given threshold\n",
    "    best_matches_dict = sorted(best_matches_dict.items(), key = operator.itemgetter(1), reverse=True) # sort by value - feature distance\n",
    "    return best_matches_dict"
   ]
  },
  {
   "cell_type": "code",
   "execution_count": 13,
   "metadata": {},
   "outputs": [],
   "source": [
    "# Apply homography to test and train image\n",
    "# Homography or image alignment: to perfectly line up the features in two images\n",
    "def apply_homography(query_image, closest_image):\n",
    "    kp1, des1 = orb.detectAndCompute(query_image, None)\n",
    "    kp2, des2 = orb.detectAndCompute(closest_image, None)\n",
    "    matches = bf.match(des1, des2)\n",
    "    # Apply homography\n",
    "    numGoodMatches = int(len(matches) * GOOD_MATCH_PERCENT)\n",
    "    matches = matches[:numGoodMatches]\n",
    "    src_pts = np.float32([kp1[m.queryIdx].pt for m in matches]).reshape(-1, 1, 2)\n",
    "    dst_pts = np.float32([kp2[m.trainIdx].pt for m in matches]).reshape(-1, 1, 2)\n",
    "    # M matrix that represents the homography\n",
    "    M, mask = cv2.findHomography(src_pts, dst_pts, cv2.RANSAC, 5.0)\n",
    "    # Use homography\n",
    "    height, width = query_image.shape[:2]\n",
    "    # The function warpPerspective transforms the source image using the specified matrix\n",
    "    im1Reg = cv2.warpPerspective(closest_image, M, (width, height))\n",
    "    # Plot aligned query and train image\n",
    "    plt.subplot(1, 2, 1)\n",
    "    plt.imshow(im1Reg, cmap='gray')\n",
    "    plt.subplot(1, 2, 2)\n",
    "    plt.imshow(query_image, cmap='gray')\n",
    "    plt.show()"
   ]
  },
  {
   "cell_type": "code",
   "execution_count": 14,
   "metadata": {},
   "outputs": [],
   "source": [
    "from collections import defaultdict\n",
    "def classify_fpr(best_matches_dict, rank):\n",
    "    '''\n",
    "    Counts how many fprs from the same class are there in the first ranked\n",
    "    :param feature_distances: Feature distaces from given query fpr to all training fprs\n",
    "    :param rank: To take the first ranked closest features\n",
    "    :return first_rank_sorted: dictionary, where key denotes the fpr class and\n",
    "    the value is how many times it appears in the first ranked fprs\n",
    "    '''\n",
    "    first_rank_fprs = defaultdict(int)\n",
    "    for fpr_name, distance in best_matches_dict[0:rank]:\n",
    "        fpr_class = get_image_class(fpr_name)\n",
    "        first_rank_fprs[fpr_class] += 1\n",
    "    first_rank_sorted = sorted(first_rank_fprs.items(), key = operator.itemgetter(1), reverse=True)\n",
    "    return first_rank_sorted"
   ]
  },
  {
   "cell_type": "code",
   "execution_count": 15,
   "metadata": {},
   "outputs": [],
   "source": [
    "def draw_keypoints_matches(fpr1, fpr2):\n",
    "    kp1, des1 = orb.detectAndCompute(fpr1, None)\n",
    "    kp2, des2 = orb.detectAndCompute(fpr2, None)\n",
    "    matches = bf.match(des1, des2)\n",
    "    matches.sort(key=lambda x: x.distance, reverse=False)\n",
    "    imMatches = cv2.drawMatches(fpr1, kp1, fpr2, kp2,matches[:10], None)\n",
    "    plt.imshow(imMatches)\n",
    "    plt.show()"
   ]
  },
  {
   "cell_type": "markdown",
   "metadata": {},
   "source": [
    "## Identification Scenario"
   ]
  },
  {
   "cell_type": "code",
   "execution_count": 16,
   "metadata": {},
   "outputs": [],
   "source": [
    "train_feature_descriptors = get_feature_descriptors(train_set)"
   ]
  },
  {
   "cell_type": "code",
   "execution_count": 17,
   "metadata": {},
   "outputs": [],
   "source": [
    "# Definition of identification scenario\n",
    "def perform_identification_scenario(dist_threshold, rank, should_draw):\n",
    "    true_y = []\n",
    "    pred_y = []\n",
    "    total_prob = 0\n",
    "    print(\"----- START, threshold = {}, rank = {} -----\".format(dist_threshold, rank))\n",
    "    for test_image_id, test_image in test_set.items():\n",
    "        # Get the distances between the query image and all other training images\n",
    "        best_matches_dict = get_best_matches(test_image, train_feature_descriptors, dist_threshold)\n",
    "        true_class = get_image_class(test_image_id)\n",
    "        # Classify the first closest features according to the given rank\n",
    "        first_rank_fprs = classify_fpr(best_matches_dict, rank)\n",
    "        predicted_class = first_rank_fprs[0][0]\n",
    "        prob = first_rank_fprs[0][1] / TRAIN_PER_CLASS\n",
    "        total_prob += prob\n",
    "        true_y.append(true_class) # true_class\n",
    "        pred_y.append(predicted_class)\n",
    "        if should_draw: # Check whether to draw the homography and the matching keypoints\n",
    "            closest_img_id = best_matches_dict[0][0]\n",
    "            closest_img = train_set.get(closest_img_id)\n",
    "            apply_homography(test_image, closest_img) # image alignment\n",
    "            draw_keypoints_matches(test_image, closest_img)\n",
    "            print('Query fingerprint ID: ' + test_image_id)\n",
    "            print('Best matching fingerprint ID: ' + closest_img_id)\n",
    "    avg_probability = total_prob/len(test_set)\n",
    "    print(\"Averaged probability for rank %d and threshold %d is %f \"%(rank, dist_threshold, avg_probability))\n",
    "    print(\"Accuracy for rank %d and threshold %d is %f \"%(rank, dist_threshold, accuracy_score(true_y, pred_y)))\n",
    "    return avg_probability"
   ]
  },
  {
   "cell_type": "code",
   "execution_count": 18,
   "metadata": {},
   "outputs": [
    {
     "name": "stdout",
     "output_type": "stream",
     "text": [
      "----- START, threshold = 20, rank = 3 -----\n",
      "Averaged probability for rank 3 and threshold 20 is 0.416667 \n",
      "Accuracy for rank 3 and threshold 20 is 0.500000 \n",
      "----- START, threshold = 30, rank = 3 -----\n",
      "Averaged probability for rank 3 and threshold 30 is 0.416667 \n",
      "Accuracy for rank 3 and threshold 30 is 1.000000 \n",
      "----- START, threshold = 40, rank = 3 -----\n",
      "Averaged probability for rank 3 and threshold 40 is 0.500000 \n",
      "Accuracy for rank 3 and threshold 40 is 1.000000 \n",
      "----- START, threshold = 50, rank = 3 -----\n",
      "Averaged probability for rank 3 and threshold 50 is 0.500000 \n",
      "Accuracy for rank 3 and threshold 50 is 1.000000 \n",
      "----- START, threshold = 60, rank = 3 -----\n",
      "Averaged probability for rank 3 and threshold 60 is 0.500000 \n",
      "Accuracy for rank 3 and threshold 60 is 1.000000 \n"
     ]
    }
   ],
   "source": [
    "rank = 3\n",
    "for dist_threshold in range(20, 70, 10):\n",
    "    perform_identification_scenario(dist_threshold, rank, False)"
   ]
  },
  {
   "cell_type": "code",
   "execution_count": 19,
   "metadata": {},
   "outputs": [
    {
     "name": "stdout",
     "output_type": "stream",
     "text": [
      "----- START, threshold = 50, rank = 1 -----\n",
      "Averaged probability for rank 1 and threshold 50 is 0.166667 \n",
      "Accuracy for rank 1 and threshold 50 is 1.000000 \n",
      "----- START, threshold = 50, rank = 2 -----\n",
      "Averaged probability for rank 2 and threshold 50 is 0.333333 \n",
      "Accuracy for rank 2 and threshold 50 is 1.000000 \n",
      "----- START, threshold = 50, rank = 3 -----\n",
      "Averaged probability for rank 3 and threshold 50 is 0.500000 \n",
      "Accuracy for rank 3 and threshold 50 is 1.000000 \n",
      "----- START, threshold = 50, rank = 4 -----\n",
      "Averaged probability for rank 4 and threshold 50 is 0.666667 \n",
      "Accuracy for rank 4 and threshold 50 is 1.000000 \n",
      "----- START, threshold = 50, rank = 5 -----\n",
      "Averaged probability for rank 5 and threshold 50 is 0.791667 \n",
      "Accuracy for rank 5 and threshold 50 is 1.000000 \n",
      "----- START, threshold = 50, rank = 6 -----\n",
      "Averaged probability for rank 6 and threshold 50 is 0.916667 \n",
      "Accuracy for rank 6 and threshold 50 is 1.000000 \n",
      "----- START, threshold = 50, rank = 7 -----\n",
      "Averaged probability for rank 7 and threshold 50 is 0.916667 \n",
      "Accuracy for rank 7 and threshold 50 is 1.000000 \n",
      "----- START, threshold = 50, rank = 8 -----\n",
      "Averaged probability for rank 8 and threshold 50 is 0.958333 \n",
      "Accuracy for rank 8 and threshold 50 is 1.000000 \n",
      "----- START, threshold = 50, rank = 9 -----\n",
      "Averaged probability for rank 9 and threshold 50 is 0.958333 \n",
      "Accuracy for rank 9 and threshold 50 is 1.000000 \n"
     ]
    }
   ],
   "source": [
    "dist_threshold = 50\n",
    "avg_probabilities = []\n",
    "rank_range = range(1, 10, 1)\n",
    "for rank in rank_range:\n",
    "    avg_probabilities.append(perform_identification_scenario(dist_threshold, rank, False))"
   ]
  },
  {
   "cell_type": "markdown",
   "metadata": {},
   "source": [
    "## CMC Curve"
   ]
  },
  {
   "cell_type": "code",
   "execution_count": 20,
   "metadata": {},
   "outputs": [
    {
     "data": {
      "image/png": "[encoded data removed]",
      "text/plain": [
       "<Figure size 432x288 with 1 Axes>"
      ]
     },
     "metadata": {
      "needs_background": "light"
     },
     "output_type": "display_data"
    }
   ],
   "source": [
    "get_cmc_curve(rank_range, avg_probabilities)"
   ]
  },
  {
   "cell_type": "markdown",
   "metadata": {},
   "source": []
  },
  {
   "cell_type": "code",
   "execution_count": 21,
   "metadata": {},
   "outputs": [],
   "source": [
    "authentication_databases = prepare_dataset_authentication(train_feature_descriptors)"
   ]
  },
  {
   "cell_type": "code",
   "execution_count": 22,
   "metadata": {},
   "outputs": [
    {
     "name": "stdout",
     "output_type": "stream",
     "text": [
      "Classes in the training set = dict_keys(['anu', 'arun'])\n"
     ]
    }
   ],
   "source": [
    "print('Classes in the training set = {}'.format(authentication_databases.keys()))"
   ]
  },
  {
   "cell_type": "code",
   "execution_count": 23,
   "metadata": {},
   "outputs": [],
   "source": [
    "def count_same_fprs(feature_distances, len_best_matches):\n",
    "    '''\n",
    "    Counts how many fprs are close to the query fpr\n",
    "    :param feature_distances: Feature distaces from given query fpr to all training fprs\n",
    "    :param len_best_matches: Predefined value for the length of best features\n",
    "    :return count_same: number of same fprs paris within the given len_best_matches\n",
    "    '''\n",
    "    count_same = 0\n",
    "    for features in feature_distances:\n",
    "        if int(features[1]) > len_best_matches: # Compare the len of best features for the given feature with the predefined len\n",
    "            count_same += 1\n",
    "    return count_same"
   ]
  },
  {
   "cell_type": "code",
   "execution_count": 24,
   "metadata": {},
   "outputs": [],
   "source": [
    "def perform_authentication_scenario(dist_threshold, len_best_matches):\n",
    "    true_y = []\n",
    "    pred_y = []\n",
    "    total_distances = []\n",
    "    print(\"----- START, Threshold = {} -----\".format(dist_threshold))\n",
    "    for authentication_db_key in authentication_databases.keys():\n",
    "        authentication_db = authentication_databases[authentication_db_key]\n",
    "        for test_image_id, test_image in test_set.items():\n",
    "            best_matches_dict = get_best_matches(test_image, authentication_db, dist_threshold)\n",
    "            total_distances.append(best_matches_dict[0])\n",
    "            count_same = count_same_fprs(best_matches_dict, len_best_matches)\n",
    "            ratio = count_same/len(authentication_db.keys())\n",
    "            test_image_class = get_image_class(test_image_id)\n",
    "            true_class = 1 if test_image_class == authentication_db_key else 0\n",
    "            true_y.append(true_class)\n",
    "            if ratio >= 0.5:\n",
    "                pred_y.append(1)\n",
    "            else:\n",
    "                pred_y.append(0)\n",
    "    identical = true_y\n",
    "    print(\"Accuracy is %f \"%(round(accuracy_score(true_y, pred_y),4)))\n",
    "    print('The precision score is {}'.format(precision_score(true_y, pred_y)))\n",
    "    print('F1 score is {}'.format(round(f1_score(true_y, pred_y), 4)))\n",
    "    return total_distances, identical"
   ]
  },
  {
   "cell_type": "code",
   "execution_count": 25,
   "metadata": {},
   "outputs": [
    {
     "name": "stdout",
     "output_type": "stream",
     "text": [
      "--- For query image: arun_6.bmp ---\n",
      "Probability of correct fpr for class arun = 1.0\n"
     ]
    },
    {
     "data": {
      "image/png": "[encoded data removed]",
      "text/plain": [
       "<Figure size 432x288 with 1 Axes>"
      ]
     },
     "metadata": {
      "needs_background": "light"
     },
     "output_type": "display_data"
    }
   ],
   "source": [
    "# Example\n",
    "test_image_id = list(test_set)[3]\n",
    "authentication_db = authentication_databases['arun']\n",
    "best_matches_dict = get_best_matches(test_set[test_image_id], authentication_db , 50)\n",
    "count_same = count_same_fprs(best_matches_dict, 10)\n",
    "ratio = count_same/len(authentication_db.keys())\n",
    "print('--- For query image: {} ---'.format(test_image_id))\n",
    "print('Probability of correct fpr for class arun = {}'.format(round(ratio,4)))\n",
    "draw_keypoints_matches(test_set[test_image_id], train_set['arun_1.bmp'])"
   ]
  },
  {
   "cell_type": "code",
   "execution_count": 26,
   "metadata": {},
   "outputs": [
    {
     "name": "stdout",
     "output_type": "stream",
     "text": [
      "----- START, Threshold = 30 -----\n",
      "Accuracy is 0.500000 \n",
      "The precision score is 0.0\n",
      "F1 score is 0.0\n",
      "----- START, Threshold = 40 -----\n",
      "Accuracy is 0.500000 \n",
      "The precision score is 0.0\n",
      "F1 score is 0.0\n",
      "----- START, Threshold = 50 -----\n",
      "Accuracy is 0.750000 \n",
      "The precision score is 1.0\n",
      "F1 score is 0.6667\n",
      "----- START, Threshold = 60 -----\n",
      "Accuracy is 0.500000 \n",
      "The precision score is 0.5\n",
      "F1 score is 0.6667\n"
     ]
    },
    {
     "name": "stderr",
     "output_type": "stream",
     "text": [
      "d:\\Projects\\FingerPrintAnalysis\\venv\\lib\\site-packages\\sklearn\\metrics\\classification.py:1143: UndefinedMetricWarning: Precision is ill-defined and being set to 0.0 due to no predicted samples.\n",
      "  'precision', 'predicted', average, warn_for)\n",
      "d:\\Projects\\FingerPrintAnalysis\\venv\\lib\\site-packages\\sklearn\\metrics\\classification.py:1143: UndefinedMetricWarning: F-score is ill-defined and being set to 0.0 due to no predicted samples.\n",
      "  'precision', 'predicted', average, warn_for)\n"
     ]
    }
   ],
   "source": [
    "len_best_matches = 15\n",
    "for dist_threshold in range(30, 70, 10):\n",
    "    perform_authentication_scenario(dist_threshold, len_best_matches)"
   ]
  },
  {
   "cell_type": "code",
   "execution_count": 27,
   "metadata": {},
   "outputs": [
    {
     "name": "stdout",
     "output_type": "stream",
     "text": [
      "----- START, Threshold = 50 -----\n",
      "Accuracy is 0.750000 \n",
      "The precision score is 1.0\n",
      "F1 score is 0.6667\n"
     ]
    }
   ],
   "source": [
    "distances, identical = perform_authentication_scenario(50, len_best_matches)\n",
    "genuine_scores, impostor_scores = get_genuine_impostor_scores(distances, identical)"
   ]
  },
  {
   "cell_type": "code",
   "execution_count": 28,
   "metadata": {},
   "outputs": [],
   "source": [
    "stats = get_eer_stats(genuine_scores, impostor_scores)\n",
    "generate_eer_report([stats], ['A'], 'pyeer_report.csv')"
   ]
  },
  {
   "cell_type": "code",
   "execution_count": 29,
   "metadata": {},
   "outputs": [
    {
     "name": "stdout",
     "output_type": "stream",
     "text": [
      "Equal Error Rate is: 0.0\n"
     ]
    }
   ],
   "source": [
    "eer = round(stats.eer, 4)\n",
    "print('Equal Error Rate is: {}'.format(eer))"
   ]
  },
  {
   "cell_type": "code",
   "execution_count": 30,
   "metadata": {},
   "outputs": [
    {
     "name": "stdout",
     "output_type": "stream",
     "text": [
      "Generating ROC curve: False accept rates vs. false reject rates\n"
     ]
    },
    {
     "data": {
      "image/png": "[encoded data removed]",
      "text/plain": [
       "<Figure size 432x288 with 1 Axes>"
      ]
     },
     "metadata": {
      "needs_background": "light"
     },
     "output_type": "display_data"
    }
   ],
   "source": [
    "print('Generating ROC curve: False accept rates vs. false reject rates')\n",
    "get_roc_curve(stats.fnmr, stats.fmr)"
   ]
  }
 ],
 "metadata": {
  "file_extension": ".py",
  "kernelspec": {
   "display_name": "Python 3.6.5 64-bit ('venv': venv)",
   "language": "python",
   "name": "python36564bitvenvvenveda1d888a01445f8bfc59012b5e82e7f"
  },
  "language_info": {
   "codemirror_mode": {
    "name": "ipython",
    "version": 3
   },
   "file_extension": ".py",
   "mimetype": "text/x-python",
   "name": "python",
   "nbconvert_exporter": "python",
   "pygments_lexer": "ipython3",
   "version": "3.6.5"
  },
  "mimetype": "text/x-python",
  "name": "python",
  "npconvert_exporter": "python",
  "pygments_lexer": "ipython3",
  "version": 3
 },
 "nbformat": 4,
 "nbformat_minor": 2
}
